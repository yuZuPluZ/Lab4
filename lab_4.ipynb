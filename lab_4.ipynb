{
  "nbformat": 4,
  "nbformat_minor": 0,
  "metadata": {
    "colab": {
      "provenance": [],
      "include_colab_link": true
    },
    "kernelspec": {
      "name": "python3",
      "display_name": "Python 3"
    },
    "language_info": {
      "name": "python"
    }
  },
  "cells": [
    {
      "cell_type": "markdown",
      "metadata": {
        "id": "view-in-github",
        "colab_type": "text"
      },
      "source": [
        "<a href=\"https://colab.research.google.com/github/yuZuPluZ/Lab4/blob/main/lab_4.ipynb\" target=\"_parent\"><img src=\"https://colab.research.google.com/assets/colab-badge.svg\" alt=\"Open In Colab\"/></a>"
      ]
    },
    {
      "cell_type": "markdown",
      "source": [
        "4.1 2520 คือ ตัวเลขที่น้อยที่สุด ที่สามารถหารด้วยตัวเลขทุกตัวตั้งแต่ 1-10 จงหาจำนวนเต็มบวกที่น้อยที่สุดที่หารด้วยตัวเลขทุกตัวตั้งแต่ 1-20\n",
        "\n",
        "15 = 360360\n",
        "\n",
        "20 = 232792560\n",
        "\n",
        "ปล. ห้าม import math"
      ],
      "metadata": {
        "id": "-bpz7hteQPdz"
      }
    },
    {
      "cell_type": "markdown",
      "source": [],
      "metadata": {
        "id": "6gne4IuXdys2"
      }
    },
    {
      "cell_type": "code",
      "execution_count": null,
      "metadata": {
        "id": "HSZUXcF2QMVn",
        "outputId": "684542bf-55d4-4898-8b2f-60fd240ed1e9",
        "colab": {
          "base_uri": "https://localhost:8080/"
        }
      },
      "outputs": [
        {
          "output_type": "stream",
          "name": "stdout",
          "text": [
            "360360\n"
          ]
        }
      ],
      "source": [
        "n = 15\n",
        "c = 0\n",
        "j = 0\n",
        "while c != n:\n",
        "    j += 1\n",
        "    c = 0\n",
        "    for i in range(1, n + 1):\n",
        "        if j % i == 0:\n",
        "            c += 1\n",
        "    if c == n:\n",
        "        print(j)\n",
        "        break"
      ]
    },
    {
      "cell_type": "markdown",
      "source": [
        "4.2 จำนวนเฉพาะ (Prime Number) คือตัวเลขที่มีแต่ 1 กับตัวมันเองที่หารลงตัว โดยจำนวนเฉพาะ 6 ตัวแรกคือ 2, 3, 5, 7, 11, 13 โดยจำนวนเฉพาะตัวที่ 6 คือ 13 จงหาจำนวนเฉพาะตัวที่ 101\n",
        "\n",
        "=> 547"
      ],
      "metadata": {
        "id": "Wq1EFYHUWNOA"
      }
    },
    {
      "cell_type": "code",
      "source": [
        "n = 101\n",
        "\n",
        "\n",
        "\n",
        "c2 = 0\n",
        "j = 0\n",
        "while c2 != n:\n",
        "    c = 0\n",
        "    for i in range(1, j+1):\n",
        "        if j % i == 0:\n",
        "            c += 1\n",
        "    if c == 2:\n",
        "        c2 += 1\n",
        "    j += 1\n",
        "else:\n",
        "    print(j-1)\n"
      ],
      "metadata": {
        "colab": {
          "base_uri": "https://localhost:8080/"
        },
        "id": "cpMa6Vp0Vz_L",
        "outputId": "26e65ef8-408c-4813-e66f-bfd69309ca9d"
      },
      "execution_count": null,
      "outputs": [
        {
          "output_type": "stream",
          "name": "stdout",
          "text": [
            "547\n"
          ]
        }
      ]
    },
    {
      "cell_type": "markdown",
      "source": [
        "1.\tกำหนดให้มี List หนึ่งประกอบด้วยตัวเลขจำนวนหนึ่ง และ ให้รับตัวเลขจำนวน 1 จำนวน จากนั้นให้หาว่าใน List มีตัวเลข 2 จำนวนใดที่บวกกันเท่ากับตัวเลขที่รับมา ให้แสดงคำตอบเป็น List เช่น Output: [0,1] โดยอาจมีมากกว่า 1 คำตอบ\n",
        "\n",
        "ตัวอย่าง list : [2, 7, 11, 15]\n",
        "\n",
        "Input : 9\n",
        "\n",
        "Output : 2 + 7 = 9 (ถ้าไม่มีให้บอก None)\n"
      ],
      "metadata": {
        "id": "-pUpw-m_WqFG"
      }
    },
    {
      "cell_type": "code",
      "source": [
        "input = 9\n",
        "list = [2, 5, 3, 6,11,7]\n",
        "c = 0\n",
        "for i in range(len(list)):\n",
        "  for j in range(i+1,len(list)):\n",
        "    if list[i] + list[j] == input:\n",
        "      c += 1\n",
        "      print(f\"{list[i]}+{list[j]} = {input}\")\n",
        "if c == 0:\n",
        "  print(\"None\")\n",
        "\n"
      ],
      "metadata": {
        "id": "s3djwBi4ks1g",
        "outputId": "9b9d9f17-f0df-456e-96c3-0ead066e6d7f",
        "colab": {
          "base_uri": "https://localhost:8080/"
        }
      },
      "execution_count": null,
      "outputs": [
        {
          "output_type": "stream",
          "name": "stdout",
          "text": [
            "2+7 = 9\n",
            "3+6 = 9\n"
          ]
        }
      ]
    },
    {
      "cell_type": "markdown",
      "source": [
        "2.\tให้เขียนโปรแกรมรับข้อมูล 1 บรรทัด ประกอบด้วยตัวเลข 1 หลัก จำนวนไม่เกิน 10 ตัว คั่นด้วยช่องว่าง จากนั้นให้นำตัวเลขที่รับเข้ามาเรียงกัน และหาลำดับการเรียงที่ทำให้มีค่าน้อยที่สุด โดยต้องไม่ขึ้นต้นด้วย 0\n",
        "\n",
        "Input : 9 4 6 2  \n",
        "\n",
        "คำตอบ 2469\n",
        "\n",
        "Input : 3 0 8 1 3 3\n",
        "\n",
        "คำตอบ : 103338\n"
      ],
      "metadata": {
        "id": "_3yLG291lSFy"
      }
    },
    {
      "cell_type": "code",
      "source": [
        "\n",
        "input_str = \"3 0 8 1 3 3\"\n",
        "numbers_str = input_str.split()\n",
        "numbers = [int(num) for num in numbers_str]\n",
        "\n",
        "temp = 0\n",
        "x = 0\n",
        "if len(numbers) > 10:\n",
        "    print(\"คุณใส่ตัวเลขมากเกินไป กรุณาใส่ตัวเลขไม่เกิน 10 ตัว\")\n",
        "else:\n",
        "    c = True\n",
        "    for i in numbers:\n",
        "        if not (len(str(i)) == 1):\n",
        "            valid = False\n",
        "            break\n",
        "    if not c:\n",
        "        print(\"โปรดใส่เฉพาะตัวเลข 1 หลักเท่านั้น (0-9)\")\n",
        "    else:\n",
        "        numbers = numbers\n",
        "for i in range(len(numbers)):\n",
        "\n",
        "    for j in range(0, len(numbers) - i - 1):\n",
        "      if numbers[j] > numbers[j + 1]:\n",
        "        temp = numbers[j]\n",
        "        numbers[j] = numbers[j+1]\n",
        "        numbers[j+1] = temp\n",
        "\n",
        "if numbers[0] == 0:\n",
        "   x = list(numbers)\n",
        "   temp = x[0]\n",
        "   x[0] = x[1]\n",
        "   x[1] = temp\n",
        "else:\n",
        "  x = list(numbers)\n",
        "\n",
        "\n",
        "for i in x:\n",
        "    print(i, end=\"\")\n",
        "\n"
      ],
      "metadata": {
        "id": "ACtXvMEyli0L",
        "colab": {
          "base_uri": "https://localhost:8080/"
        },
        "outputId": "2b68ebd5-ed72-4dee-da43-0bc9deb9bd58"
      },
      "execution_count": 7,
      "outputs": [
        {
          "output_type": "stream",
          "name": "stdout",
          "text": [
            "103338"
          ]
        }
      ]
    },
    {
      "cell_type": "markdown",
      "source": [
        "3.\tจากตัวเลขต่อไปนี้ ตัวเลขติดกัน 4 ตัวที่เมื่อนำมาคูณกันแล้วมีค่ามากที่สุดคือ 9 × 9 × 8 × 9 = 5832\n",
        "\n",
        "73167176531330624919225119674426574742355349194934\n",
        "96983520312774506326239578318016984801869478851843\n",
        "85861560789112949495459501737958331952853208805511\n",
        "12540698747158523863050715693290963295227443043557\n",
        "66896648950445244523161731856403098711121722383113\n",
        "62229893423380308135336276614282806444486645238749\n",
        "30358907296290491560440772390713810515859307960866\n",
        "70172427121883998797908792274921901699720888093776\n",
        "65727333001053367881220235421809751254540594752243\n",
        "52584907711670556013604839586446706324415722155397\n",
        "53697817977846174064955149290862569321978468622482\n",
        "83972241375657056057490261407972968652414535100474\n",
        "82166370484403199890008895243450658541227588666881\n",
        "16427171479924442928230863465674813919123162824586\n",
        "17866458359124566529476545682848912883142607690042\n",
        "24219022671055626321111109370544217506941658960408\n",
        "07198403850962455444362981230987879927244284909188\n",
        "84580156166097919133875499200524063689912560717606\n",
        "05886116467109405077541002256983155200055935729725\n",
        "71636269561882670428252483600823257530420752963450\n",
        "\n",
        "จงหาเลขติดกัน 8 ตัวที่เมื่อนำมาคูณกันแล้วมีค่ามากที่สุด และเป็นเลขอะไร ผลคูณเท่ากับเท่าไร\n",
        "\n",
        "The maximum product is: 7838208\n",
        "The digits are: 88399879\n",
        "\n",
        "\n",
        "\n"
      ],
      "metadata": {
        "id": "Gv8aIY7dliSY"
      }
    },
    {
      "cell_type": "code",
      "source": [
        "number_str = \"73167176531330624919225119674426574742355349194934969835203127745063262395783180169848018694788518438586156078911294949545950173795833195285320880551112540698747158523863050715693290963295227443043557668966489504452445231617318564030987111217223831136222989342338030813533627661428280644448664523874303589072962904915604407723907138105158593079608670172427121883998797908792274921901699720888093776657273330010533678812202354218097512545405947522435258490771167055601360483958644670632441572215539753697817977846174064955149290862569321978468622482839722413756570560574902614079729686524145351004748216637048440319989000889524345065854122758866688116427171479924442928230863465674813919123162824586178664583591245665294765456828489128831426076900422421902267105562632111110937054421750694165896040807198403850962455444362981230987879927244284909188845801561660979191338754992005240636899125607176060588611646710940507754100225698315520005593572972571636269561882670428252483600823257530420752963450\"\n",
        "\n",
        "max_product = 0\n",
        "max_digi_8 = 0\n",
        "\n",
        "for i in range(len(number_str)):\n",
        "    digi_8 = number_str[i:i+8]\n",
        "    product = 1\n",
        "    for char in digi_8:\n",
        "        product *= int(char)\n",
        "\n",
        "    if product > max_product:\n",
        "        max_product = product\n",
        "        max_digi_8 = digi_8\n",
        "\n",
        "print(f\"The maximum product is:{max_product} The digits are:{''.join(max_digi_8)}\")\n",
        "\n"
      ],
      "metadata": {
        "id": "wvVqGMknmBu5",
        "colab": {
          "base_uri": "https://localhost:8080/"
        },
        "outputId": "1aca793a-0284-42cd-de98-420f5d5b9780"
      },
      "execution_count": null,
      "outputs": [
        {
          "output_type": "stream",
          "name": "stdout",
          "text": [
            "The maximum product is:7838208 The digits are:88399879\n"
          ]
        }
      ]
    },
    {
      "cell_type": "markdown",
      "source": [
        "4.\tตัวเลข palindrome คือตัวเลขที่อ่านได้ทั้ง 2 ทาง แล้วมีค่าเท่ากัน เช่น 9009 โดย 9009 คือ palindrome ที่เกิดจากการคูณของตัวเลข 2 หลักที่มากที่สุด คือ 91x99 จงหา palindrome ที่มากที่สุดของตัวเลข 3 หลัก\n",
        "\n",
        "The largest palindrome product of 3-digit numbers is: 906609\n"
      ],
      "metadata": {
        "id": "fjy5LNC7m0We"
      }
    },
    {
      "cell_type": "code",
      "source": [
        "n = 5\n",
        "max_product = 0\n",
        "\n",
        "\n",
        "upper_limit = (10**(n))-1\n",
        "lower_limit = 1 + upper_limit//10\n",
        "\n",
        "for i in range(upper_limit,lower_limit-1,-1 ):\n",
        "  for j in range(i,lower_limit-1,-1):\n",
        "    product = i*j\n",
        "    if product < max_product:\n",
        "      break\n",
        "    if str(product)==str(product)[::-1] and product > max_product:\n",
        "      max_product = product\n",
        "\n",
        "\n",
        "print(f\"The largest palindrome product of {n}-digit numbers is:{max_product}\")\n"
      ],
      "metadata": {
        "id": "y-QY3hzVmsud",
        "colab": {
          "base_uri": "https://localhost:8080/"
        },
        "outputId": "3020133a-eed1-4b7b-b678-8949dce87881"
      },
      "execution_count": null,
      "outputs": [
        {
          "output_type": "stream",
          "name": "stdout",
          "text": [
            "The largest palindrome product of 5-digit numbers is:9966006699\n"
          ]
        }
      ]
    },
    {
      "cell_type": "markdown",
      "source": [
        "5.\tกำหนดให้ string มีเพียงสัญลักษณ์ '(', ')', '{', '}', '[' และ ']' ให้ตรวจสอบว่า String ถูกต้อง โดย เมื่อมีวงเล็บเปิด จะต้องมีวงเล็บปิดที่เป็นชนิดเดียวกัน จำนวนเท่ากันที่เป็นคู่ของมัน\n",
        "\n",
        "```\n",
        "Input: s = \"()\"\n",
        "Output: true\n",
        "Input: s = \"()[]{}\"\n",
        "Output: true\n",
        "Input: s = \"[()]{}\"\n",
        "Output: true\n",
        "Input: s = \"(]\"\n",
        "Output: false\n",
        "```\n",
        "\n",
        "\n"
      ],
      "metadata": {
        "id": "rUZvLJ-JnGJY"
      }
    },
    {
      "cell_type": "code",
      "source": [
        "input = \"[()]{}\"\n",
        "lst_start = [\"(\",\"[\",\"{\"]\n",
        "lst_stop =  [\")\",\"]\",\"}\"]\n",
        "c1_start = 0\n",
        "c1_stop = 0\n",
        "c2_start = 0\n",
        "c2_stop = 0\n",
        "c3_start = 0\n",
        "c3_stop = 0\n",
        "for i in input:\n",
        "  if i == \"(\":\n",
        "    c1_start += 1\n",
        "  elif i == \"[\":\n",
        "    c2_start += 1\n",
        "  elif i == \"{\":\n",
        "    c3_start += 1\n",
        "\n",
        "  if i == \")\":\n",
        "    c1_stop += 1\n",
        "  elif i == \"]\":\n",
        "    c2_stop += 1\n",
        "  elif i == \"}\":\n",
        "    c3_stop += 1\n",
        "\n",
        "if c1_start == c1_stop and c2_start == c2_stop and c3_start == c3_stop:\n",
        "  print(True)\n",
        "else:\n",
        "  print(False)"
      ],
      "metadata": {
        "id": "Ku8ts4x7nk1y",
        "outputId": "5cd98754-c7c6-4249-dda7-208f88e9b605",
        "colab": {
          "base_uri": "https://localhost:8080/"
        }
      },
      "execution_count": null,
      "outputs": [
        {
          "output_type": "stream",
          "name": "stdout",
          "text": [
            "True\n"
          ]
        }
      ]
    },
    {
      "cell_type": "markdown",
      "source": [
        "6.\tกำหนดให้รับข้อมูล Integer (เป็นบวกหรือลบก็ได้) จากนั้นให้แสดงผลลัพธ์ที่ reverse ตัวเลขตามตัวอย่าง\n",
        "\n",
        "```\n",
        "Input: x = 123\n",
        "Output: 321\n",
        "Input: x = -123\n",
        "Output: -321\n",
        "Input: x = 120\n",
        "Output: 21\n",
        "```\n",
        "\n"
      ],
      "metadata": {
        "id": "PLL9Wdqqnx7o"
      }
    },
    {
      "cell_type": "code",
      "source": [
        "num = -120\n",
        "\n",
        "\n",
        "if str(num)[0] == \"-\":\n",
        "    print(int(str(num)[len(str(num)):0:-1])*-1)\n",
        "\n",
        "else:\n",
        "    print(int(str(num)[::-1]))"
      ],
      "metadata": {
        "id": "2H7Ny1f1vn2v",
        "outputId": "2cfba322-96c7-4ea0-ba43-98bd4f82b4c9",
        "colab": {
          "base_uri": "https://localhost:8080/"
        }
      },
      "execution_count": null,
      "outputs": [
        {
          "output_type": "stream",
          "name": "stdout",
          "text": [
            "-21\n"
          ]
        }
      ]
    },
    {
      "cell_type": "markdown",
      "source": [
        "7.\tเขียนโปรแกรมเพื่อแสดงปิรามิดบนจอภาพ โดยแสดงเป็นรูปสี่เหลี่ยม ตัวเลขเริ่มจาก 0  และเพิ่มค่าตามลําดับจํานวนขั้น จาก 0 ถึง N (รับค่า N จากคีย์บอร์ด) ค่าของ N อยู่ระหว่าง 0-9 ดังตัวอย่าง\n",
        "\n",
        "\n",
        "```\n",
        "\t\t\t\t\t\t\t\t\t         0000000\n",
        "\t\t\t\t\t\t\t    00000\t\t0111110\n",
        "\t\t\t\t\t000\t\t 01110\t\t0122210\n",
        "\t\t\t0\t  010\t\t  01210\t\t0123210\n",
        "\t\t\t\t\t000\t\t 01110\t\t0122210\n",
        "\t\t\t\t\t\t\t    00000\t\t0111110\n",
        "\t\t\t\t\t\t\t\t\t         0000000\n",
        "\n",
        "\t\t\tn=0\t\tn=1\t\tn=2\t\tn=3\n",
        "\n",
        "```\n",
        "\n"
      ],
      "metadata": {
        "id": "KboD6c8rn52a"
      }
    },
    {
      "cell_type": "code",
      "source": [
        "n = 3\n",
        "x = n * 2 + 1\n",
        "for i in range(x):\n",
        "    for j in range(x):\n",
        "        top = i\n",
        "        bottom = x - i - 1\n",
        "        left = j\n",
        "        right = x - j -1\n",
        "        y = top\n",
        "        if y > bottom:\n",
        "          y = bottom\n",
        "        if y > left:\n",
        "          y = left\n",
        "        if y > right:\n",
        "          y = right\n",
        "        print(y, end='')\n",
        "    print()\n"
      ],
      "metadata": {
        "id": "sGhw6Iyfobiz",
        "colab": {
          "base_uri": "https://localhost:8080/"
        },
        "outputId": "bdebce8f-2ff6-4ae1-f9eb-0b1373d6861c"
      },
      "execution_count": null,
      "outputs": [
        {
          "output_type": "stream",
          "name": "stdout",
          "text": [
            "0000000\n",
            "0111110\n",
            "0122210\n",
            "0123210\n",
            "0122210\n",
            "0111110\n",
            "0000000\n"
          ]
        }
      ]
    },
    {
      "cell_type": "markdown",
      "source": [
        "8.\tเขียนโปรแกรมเพื่อแสดงปิรามิดบนจอภาพ โดยแสดงเป็นรูปสี่เหลี่ยม ตัวเลขเริ่มจาก 0  และเพิ่มค่าตามลําดับจํานวนขั้น จาก 0 ถึง N (รับค่า N จากคีย์บอร์ด) กําหนดให้จุดศูนย์กลางของรูปสี่เหลี่ยมอยู่ที่แถว 13 คอลัมน์ 40 ของจอภาพค่าของ N อยู่ระหว่าง 0-9 ดังตัวอย่าง\n",
        "\n",
        "\n",
        "\n",
        "```\n",
        "\t\t\t\t\t\t\t\t\t            0\n",
        "\t\t\t\t\t\t\t      0\t\t    010\n",
        "\t\t\t\t\t  0\t\t  010\t\t  01210\n",
        "\t\t\t0\t\t010\t\t01210\t\t0123210\n",
        "\t\t\t\t\t  0\t\t  010\t\t  01210\n",
        "\t\t\t\t\t\t\t      0\t\t    010\n",
        "\t\t\t\t\t\t\t\t\t            0\n",
        "\n",
        "\t\t\tn=0\t\tn=1\t\tn=2\t\tn=3\n",
        "\n",
        "```\n",
        "\n"
      ],
      "metadata": {
        "id": "ecRYU6Lkob6Q"
      }
    },
    {
      "cell_type": "code",
      "source": [
        "n = 3\n",
        "\n",
        "for i in range(n):\n",
        "  for _ in range(n-i):\n",
        "    print(\" \", end = '')\n",
        "  for j in range(i):\n",
        "    print(j, end = '')\n",
        "  for j in range(i ,-1,-1):\n",
        "    print(j, end = '')\n",
        "  print(\"\")\n",
        "\n",
        "for i in range(n,-1,-1):\n",
        "  for _ in range(n-i):\n",
        "    print(\" \", end = '')\n",
        "  for j in range(i):\n",
        "    print(j, end = '')\n",
        "  for j in range(i ,-1,-1):\n",
        "    print(j, end = '')\n",
        "  print(\"\")\n"
      ],
      "metadata": {
        "colab": {
          "base_uri": "https://localhost:8080/"
        },
        "id": "ue519rxbMoTe",
        "outputId": "13f49dde-b73e-44b7-b311-8e588048388a"
      },
      "execution_count": null,
      "outputs": [
        {
          "output_type": "stream",
          "name": "stdout",
          "text": [
            "   0\n",
            "  010\n",
            " 01210\n",
            "0123210\n",
            " 01210\n",
            "  010\n",
            "   0\n"
          ]
        }
      ]
    },
    {
      "cell_type": "markdown",
      "source": [
        "9.\tให้เขียนโปรแกรมสร้างรูปสามเหลี่ยมที่วางซ้อนกัน 3 รูป โดยแต่ละรูปสร้างมาจากเครื่องหมาย \"*\" โดยกําหนดให้รับตัวเลขระดับของสามเหลี่ยมจากคีย์บอร์ด จากตัวอย่างข้างล่างนี้เป็นรูปสามเหลี่ยมระดับที่ 3 และ 4\n",
        "\n",
        "\n",
        "\n",
        "```\n",
        "              *\n",
        "\t\t     ***\n",
        "\t\t    *****\n",
        "\t\t   *     *\n",
        "\t      ***   ***\n",
        "\t     ***** *****\n",
        "\n",
        "  \t\t    *\n",
        "\t  \t   ***\n",
        "\t\t    *****\n",
        "\t\t   *******\n",
        "\t      *       *\n",
        "\t     ***     ***\n",
        "\t    *****   *****\n",
        "\t   ******* *******\n",
        "\n",
        "```\n",
        "\n"
      ],
      "metadata": {
        "id": "Po50A-Kuo5t4"
      }
    },
    {
      "cell_type": "code",
      "source": [
        "n = 3\n",
        "for i in range(n):\n",
        "    for _ in range(n*2 - i):\n",
        "        print(\" \", end=\"\")\n",
        "    for j in range(2 * i + 1):\n",
        "        print(\"*\", end=\"\")\n",
        "    print(\"\")\n",
        "for i in range(n):\n",
        "        for _ in range(n - i):\n",
        "            print(\" \", end=\"\")\n",
        "\n",
        "        for j in range(2 * i + 1):\n",
        "            print(\"*\", end=\"\")\n",
        "\n",
        "        for _ in range(2 * (n - i - 1) + 1):\n",
        "            print(\" \", end=\"\")\n",
        "        # Print second pyramid\n",
        "        for j in range(2 * i + 1):\n",
        "            print(\"*\", end=\"\")\n",
        "        print(\"\")"
      ],
      "metadata": {
        "colab": {
          "base_uri": "https://localhost:8080/"
        },
        "id": "lgpw4id4HUON",
        "outputId": "516503e7-dcb8-45b7-cdb3-6d65254f1726"
      },
      "execution_count": null,
      "outputs": [
        {
          "output_type": "stream",
          "name": "stdout",
          "text": [
            "      *\n",
            "     ***\n",
            "    *****\n",
            "   *     *\n",
            "  ***   ***\n",
            " ***** *****\n"
          ]
        }
      ]
    }
  ]
}